{
 "cells": [
  {
   "cell_type": "markdown",
   "metadata": {},
   "source": [
    "## General requirements for the assignment\n",
    "- Make appropriate comments to your code\n",
    "- Use Markdown cells to provide your answers (when applicable)\n",
    "- Add your code when there is the comment \"YOUR CODE HERE\".\n",
    "- Stick to Pep8 standard as much as possible for your coding\n",
    "- Submit through GitHub\n",
    "- Tag the commit as *Final submission of Assignment 1*\n",
    "- Post (interesting) errors in the course Github's issue page\n",
    "  \n",
    "## Assignment Intro\n",
    "In this assignment, you will be working with data imports. Data is provided to you both to be downloaded locally and accessed remotely. The final deliverable for the assignment is this ipython notebook with the executed cells active and submitted through your personal GitHub accounts. You will be importing data, conduct some basic data exploration and finally exporting the data and saving it for future use.  \n",
    "\n",
    "You will be working with this data for the other two GO/NOGO assignments as well. The data is from the Google mobility report. You can find more information about this data here: <https://www.google.com/covid19/mobility/data_documentation.html?hl=en>.\n",
    "\n",
    "### DEADLINE FOR THIS ASSIGNMENT IS 17 SEPTEMBER 2021 BEFORE 23:59\n",
    "\n",
    "<hr />\n"
   ]
  },
  {
   "cell_type": "markdown",
   "metadata": {},
   "source": [
    "## Import libraries\n",
    "Update this list as you go along with the assignment"
   ]
  },
  {
   "cell_type": "code",
   "execution_count": 1,
   "metadata": {},
   "outputs": [],
   "source": [
    "# YOUR CODE HERE\n",
    "# import libraries\n",
    "import numpy as np\n",
    "import pandas as pd\n",
    "import os\n",
    "import matplotlib.pyplot as plt"
   ]
  },
  {
   "cell_type": "markdown",
   "metadata": {},
   "source": [
    "# PART I - Data Import and Export"
   ]
  },
  {
   "cell_type": "markdown",
   "metadata": {},
   "source": [
    "#### 1. Download mobility data from this [link](https://www.google.com/covid19/mobility/), choose *Region CSVs*. From the downloaded data, pick a country to work with. Why did you choose this country?"
   ]
  },
  {
   "cell_type": "code",
   "execution_count": 2,
   "metadata": {},
   "outputs": [],
   "source": [
    "# path to the downloaded data folder, e.g. 'Downloads/Region_Mobility_Report_CSVs/'\n",
    "data_dir = 'Region_Mobility_Report_CSVs'\n",
    "country_code = 'CO'  # I visited Colombia in 2019"
   ]
  },
  {
   "cell_type": "markdown",
   "metadata": {},
   "source": [
    "#### 2. Find the path to the data of your selection. We have prepared some sample code. You need to fill in some parts indicated by 'YOUR CODE HERE'."
   ]
  },
  {
   "cell_type": "code",
   "execution_count": 3,
   "metadata": {},
   "outputs": [
    {
     "name": "stdout",
     "output_type": "stream",
     "text": [
      "Found file name is: 2020_CO_Region_Mobility_Report.csv\n",
      "Path to the file is: Region_Mobility_Report_CSVs/2020_CO_Region_Mobility_Report.csv\n"
     ]
    }
   ],
   "source": [
    "all_files = os.listdir(data_dir)\n",
    "# initilisation\n",
    "target_file_name = ''\n",
    "year = '2020'\n",
    "\n",
    "for file_name in all_files:\n",
    "    # check if this file is for 2020\n",
    "    is_year = file_name.startswith(year)\n",
    "    # if yes, we check if the file name is for the country that you select\n",
    "    if is_year:\n",
    "        # check if the country_code is in the file_name\n",
    "        is_country = file_name.startswith(country_code, 5)\n",
    "        if is_country:\n",
    "            # found the file, save it to 'target_file_name'\n",
    "            target_file_name = file_name\n",
    "            # we stop looking by breaking out of the for loop\n",
    "            break\n",
    "if not target_file_name:\n",
    "    print('File not found. Check your country code (or select a different one)!')\n",
    "else:\n",
    "    print('Found file name is: ' + target_file_name)\n",
    "    # get the path to the file\n",
    "    file_path = '%s/%s' % (data_dir, target_file_name)\n",
    "    print('Path to the file is: ' + file_path)\n"
   ]
  },
  {
   "cell_type": "markdown",
   "metadata": {},
   "source": [
    "#### 3. Import the 2020 data for this country as a pandas data frame and name it as `df_2020`. Print the first 10 lines of `df_2020`"
   ]
  },
  {
   "cell_type": "code",
   "execution_count": 4,
   "metadata": {},
   "outputs": [
    {
     "data": {
      "text/html": [
       "<div>\n",
       "<style scoped>\n",
       "    .dataframe tbody tr th:only-of-type {\n",
       "        vertical-align: middle;\n",
       "    }\n",
       "\n",
       "    .dataframe tbody tr th {\n",
       "        vertical-align: top;\n",
       "    }\n",
       "\n",
       "    .dataframe thead th {\n",
       "        text-align: right;\n",
       "    }\n",
       "</style>\n",
       "<table border=\"1\" class=\"dataframe\">\n",
       "  <thead>\n",
       "    <tr style=\"text-align: right;\">\n",
       "      <th></th>\n",
       "      <th>country_region_code</th>\n",
       "      <th>country_region</th>\n",
       "      <th>sub_region_1</th>\n",
       "      <th>sub_region_2</th>\n",
       "      <th>metro_area</th>\n",
       "      <th>iso_3166_2_code</th>\n",
       "      <th>census_fips_code</th>\n",
       "      <th>place_id</th>\n",
       "      <th>date</th>\n",
       "      <th>retail_and_recreation_percent_change_from_baseline</th>\n",
       "      <th>grocery_and_pharmacy_percent_change_from_baseline</th>\n",
       "      <th>parks_percent_change_from_baseline</th>\n",
       "      <th>transit_stations_percent_change_from_baseline</th>\n",
       "      <th>workplaces_percent_change_from_baseline</th>\n",
       "      <th>residential_percent_change_from_baseline</th>\n",
       "    </tr>\n",
       "  </thead>\n",
       "  <tbody>\n",
       "    <tr>\n",
       "      <th>0</th>\n",
       "      <td>CO</td>\n",
       "      <td>Colombia</td>\n",
       "      <td>NaN</td>\n",
       "      <td>NaN</td>\n",
       "      <td>NaN</td>\n",
       "      <td>NaN</td>\n",
       "      <td>NaN</td>\n",
       "      <td>ChIJo5QVrjqkFY4RQKPy7wSaDZo</td>\n",
       "      <td>2020-02-15</td>\n",
       "      <td>4.0</td>\n",
       "      <td>5.0</td>\n",
       "      <td>-5.0</td>\n",
       "      <td>1.0</td>\n",
       "      <td>7.0</td>\n",
       "      <td>1.0</td>\n",
       "    </tr>\n",
       "    <tr>\n",
       "      <th>1</th>\n",
       "      <td>CO</td>\n",
       "      <td>Colombia</td>\n",
       "      <td>NaN</td>\n",
       "      <td>NaN</td>\n",
       "      <td>NaN</td>\n",
       "      <td>NaN</td>\n",
       "      <td>NaN</td>\n",
       "      <td>ChIJo5QVrjqkFY4RQKPy7wSaDZo</td>\n",
       "      <td>2020-02-16</td>\n",
       "      <td>0.0</td>\n",
       "      <td>5.0</td>\n",
       "      <td>-5.0</td>\n",
       "      <td>-1.0</td>\n",
       "      <td>1.0</td>\n",
       "      <td>2.0</td>\n",
       "    </tr>\n",
       "    <tr>\n",
       "      <th>2</th>\n",
       "      <td>CO</td>\n",
       "      <td>Colombia</td>\n",
       "      <td>NaN</td>\n",
       "      <td>NaN</td>\n",
       "      <td>NaN</td>\n",
       "      <td>NaN</td>\n",
       "      <td>NaN</td>\n",
       "      <td>ChIJo5QVrjqkFY4RQKPy7wSaDZo</td>\n",
       "      <td>2020-02-17</td>\n",
       "      <td>-1.0</td>\n",
       "      <td>3.0</td>\n",
       "      <td>-4.0</td>\n",
       "      <td>6.0</td>\n",
       "      <td>15.0</td>\n",
       "      <td>-1.0</td>\n",
       "    </tr>\n",
       "    <tr>\n",
       "      <th>3</th>\n",
       "      <td>CO</td>\n",
       "      <td>Colombia</td>\n",
       "      <td>NaN</td>\n",
       "      <td>NaN</td>\n",
       "      <td>NaN</td>\n",
       "      <td>NaN</td>\n",
       "      <td>NaN</td>\n",
       "      <td>ChIJo5QVrjqkFY4RQKPy7wSaDZo</td>\n",
       "      <td>2020-02-18</td>\n",
       "      <td>-3.0</td>\n",
       "      <td>1.0</td>\n",
       "      <td>-3.0</td>\n",
       "      <td>10.0</td>\n",
       "      <td>17.0</td>\n",
       "      <td>-1.0</td>\n",
       "    </tr>\n",
       "    <tr>\n",
       "      <th>4</th>\n",
       "      <td>CO</td>\n",
       "      <td>Colombia</td>\n",
       "      <td>NaN</td>\n",
       "      <td>NaN</td>\n",
       "      <td>NaN</td>\n",
       "      <td>NaN</td>\n",
       "      <td>NaN</td>\n",
       "      <td>ChIJo5QVrjqkFY4RQKPy7wSaDZo</td>\n",
       "      <td>2020-02-19</td>\n",
       "      <td>-5.0</td>\n",
       "      <td>-5.0</td>\n",
       "      <td>-5.0</td>\n",
       "      <td>6.0</td>\n",
       "      <td>13.0</td>\n",
       "      <td>-2.0</td>\n",
       "    </tr>\n",
       "    <tr>\n",
       "      <th>5</th>\n",
       "      <td>CO</td>\n",
       "      <td>Colombia</td>\n",
       "      <td>NaN</td>\n",
       "      <td>NaN</td>\n",
       "      <td>NaN</td>\n",
       "      <td>NaN</td>\n",
       "      <td>NaN</td>\n",
       "      <td>ChIJo5QVrjqkFY4RQKPy7wSaDZo</td>\n",
       "      <td>2020-02-20</td>\n",
       "      <td>-5.0</td>\n",
       "      <td>-4.0</td>\n",
       "      <td>-6.0</td>\n",
       "      <td>2.0</td>\n",
       "      <td>7.0</td>\n",
       "      <td>-1.0</td>\n",
       "    </tr>\n",
       "    <tr>\n",
       "      <th>6</th>\n",
       "      <td>CO</td>\n",
       "      <td>Colombia</td>\n",
       "      <td>NaN</td>\n",
       "      <td>NaN</td>\n",
       "      <td>NaN</td>\n",
       "      <td>NaN</td>\n",
       "      <td>NaN</td>\n",
       "      <td>ChIJo5QVrjqkFY4RQKPy7wSaDZo</td>\n",
       "      <td>2020-02-21</td>\n",
       "      <td>-2.0</td>\n",
       "      <td>-1.0</td>\n",
       "      <td>-6.0</td>\n",
       "      <td>8.0</td>\n",
       "      <td>13.0</td>\n",
       "      <td>-1.0</td>\n",
       "    </tr>\n",
       "    <tr>\n",
       "      <th>7</th>\n",
       "      <td>CO</td>\n",
       "      <td>Colombia</td>\n",
       "      <td>NaN</td>\n",
       "      <td>NaN</td>\n",
       "      <td>NaN</td>\n",
       "      <td>NaN</td>\n",
       "      <td>NaN</td>\n",
       "      <td>ChIJo5QVrjqkFY4RQKPy7wSaDZo</td>\n",
       "      <td>2020-02-22</td>\n",
       "      <td>-2.0</td>\n",
       "      <td>-2.0</td>\n",
       "      <td>-8.0</td>\n",
       "      <td>2.0</td>\n",
       "      <td>4.0</td>\n",
       "      <td>0.0</td>\n",
       "    </tr>\n",
       "    <tr>\n",
       "      <th>8</th>\n",
       "      <td>CO</td>\n",
       "      <td>Colombia</td>\n",
       "      <td>NaN</td>\n",
       "      <td>NaN</td>\n",
       "      <td>NaN</td>\n",
       "      <td>NaN</td>\n",
       "      <td>NaN</td>\n",
       "      <td>ChIJo5QVrjqkFY4RQKPy7wSaDZo</td>\n",
       "      <td>2020-02-23</td>\n",
       "      <td>-7.0</td>\n",
       "      <td>-4.0</td>\n",
       "      <td>-11.0</td>\n",
       "      <td>-5.0</td>\n",
       "      <td>-2.0</td>\n",
       "      <td>2.0</td>\n",
       "    </tr>\n",
       "    <tr>\n",
       "      <th>9</th>\n",
       "      <td>CO</td>\n",
       "      <td>Colombia</td>\n",
       "      <td>NaN</td>\n",
       "      <td>NaN</td>\n",
       "      <td>NaN</td>\n",
       "      <td>NaN</td>\n",
       "      <td>NaN</td>\n",
       "      <td>ChIJo5QVrjqkFY4RQKPy7wSaDZo</td>\n",
       "      <td>2020-02-24</td>\n",
       "      <td>-7.0</td>\n",
       "      <td>-4.0</td>\n",
       "      <td>-9.0</td>\n",
       "      <td>6.0</td>\n",
       "      <td>11.0</td>\n",
       "      <td>0.0</td>\n",
       "    </tr>\n",
       "  </tbody>\n",
       "</table>\n",
       "</div>"
      ],
      "text/plain": [
       "  country_region_code country_region sub_region_1 sub_region_2  metro_area  \\\n",
       "0                  CO       Colombia          NaN          NaN         NaN   \n",
       "1                  CO       Colombia          NaN          NaN         NaN   \n",
       "2                  CO       Colombia          NaN          NaN         NaN   \n",
       "3                  CO       Colombia          NaN          NaN         NaN   \n",
       "4                  CO       Colombia          NaN          NaN         NaN   \n",
       "5                  CO       Colombia          NaN          NaN         NaN   \n",
       "6                  CO       Colombia          NaN          NaN         NaN   \n",
       "7                  CO       Colombia          NaN          NaN         NaN   \n",
       "8                  CO       Colombia          NaN          NaN         NaN   \n",
       "9                  CO       Colombia          NaN          NaN         NaN   \n",
       "\n",
       "  iso_3166_2_code  census_fips_code                     place_id        date  \\\n",
       "0             NaN               NaN  ChIJo5QVrjqkFY4RQKPy7wSaDZo  2020-02-15   \n",
       "1             NaN               NaN  ChIJo5QVrjqkFY4RQKPy7wSaDZo  2020-02-16   \n",
       "2             NaN               NaN  ChIJo5QVrjqkFY4RQKPy7wSaDZo  2020-02-17   \n",
       "3             NaN               NaN  ChIJo5QVrjqkFY4RQKPy7wSaDZo  2020-02-18   \n",
       "4             NaN               NaN  ChIJo5QVrjqkFY4RQKPy7wSaDZo  2020-02-19   \n",
       "5             NaN               NaN  ChIJo5QVrjqkFY4RQKPy7wSaDZo  2020-02-20   \n",
       "6             NaN               NaN  ChIJo5QVrjqkFY4RQKPy7wSaDZo  2020-02-21   \n",
       "7             NaN               NaN  ChIJo5QVrjqkFY4RQKPy7wSaDZo  2020-02-22   \n",
       "8             NaN               NaN  ChIJo5QVrjqkFY4RQKPy7wSaDZo  2020-02-23   \n",
       "9             NaN               NaN  ChIJo5QVrjqkFY4RQKPy7wSaDZo  2020-02-24   \n",
       "\n",
       "   retail_and_recreation_percent_change_from_baseline  \\\n",
       "0                                                4.0    \n",
       "1                                                0.0    \n",
       "2                                               -1.0    \n",
       "3                                               -3.0    \n",
       "4                                               -5.0    \n",
       "5                                               -5.0    \n",
       "6                                               -2.0    \n",
       "7                                               -2.0    \n",
       "8                                               -7.0    \n",
       "9                                               -7.0    \n",
       "\n",
       "   grocery_and_pharmacy_percent_change_from_baseline  \\\n",
       "0                                                5.0   \n",
       "1                                                5.0   \n",
       "2                                                3.0   \n",
       "3                                                1.0   \n",
       "4                                               -5.0   \n",
       "5                                               -4.0   \n",
       "6                                               -1.0   \n",
       "7                                               -2.0   \n",
       "8                                               -4.0   \n",
       "9                                               -4.0   \n",
       "\n",
       "   parks_percent_change_from_baseline  \\\n",
       "0                                -5.0   \n",
       "1                                -5.0   \n",
       "2                                -4.0   \n",
       "3                                -3.0   \n",
       "4                                -5.0   \n",
       "5                                -6.0   \n",
       "6                                -6.0   \n",
       "7                                -8.0   \n",
       "8                               -11.0   \n",
       "9                                -9.0   \n",
       "\n",
       "   transit_stations_percent_change_from_baseline  \\\n",
       "0                                            1.0   \n",
       "1                                           -1.0   \n",
       "2                                            6.0   \n",
       "3                                           10.0   \n",
       "4                                            6.0   \n",
       "5                                            2.0   \n",
       "6                                            8.0   \n",
       "7                                            2.0   \n",
       "8                                           -5.0   \n",
       "9                                            6.0   \n",
       "\n",
       "   workplaces_percent_change_from_baseline  \\\n",
       "0                                      7.0   \n",
       "1                                      1.0   \n",
       "2                                     15.0   \n",
       "3                                     17.0   \n",
       "4                                     13.0   \n",
       "5                                      7.0   \n",
       "6                                     13.0   \n",
       "7                                      4.0   \n",
       "8                                     -2.0   \n",
       "9                                     11.0   \n",
       "\n",
       "   residential_percent_change_from_baseline  \n",
       "0                                       1.0  \n",
       "1                                       2.0  \n",
       "2                                      -1.0  \n",
       "3                                      -1.0  \n",
       "4                                      -2.0  \n",
       "5                                      -1.0  \n",
       "6                                      -1.0  \n",
       "7                                       0.0  \n",
       "8                                       2.0  \n",
       "9                                       0.0  "
      ]
     },
     "execution_count": 4,
     "metadata": {},
     "output_type": "execute_result"
    }
   ],
   "source": [
    "# Create DataFrame with 2020 data\n",
    "df_2020 = pd.read_csv('Region_Mobility_Report_CSVs/2020_CO_Region_Mobility_Report.csv')\n",
    "\n",
    "# Print first 10 lines of df\n",
    "df_2020.head(10)"
   ]
  },
  {
   "cell_type": "markdown",
   "metadata": {},
   "source": [
    "#### We have also stored the data in a remote server. The data for a particular country can be retrieved with the following API:\n",
    "`http://mirrors-dev.citg.tudelft.nl:8083/google-mobility-data/{yy}/{CC}` \n",
    "#### where yy is either 2020 or 2021, and CC is a 2-letter country code. For example, to get data for 2020 for the Netherlands, the API will be: <http://mirrors-dev.citg.tudelft.nl:8083/google-mobility-data/2020/NL>\n"
   ]
  },
  {
   "cell_type": "markdown",
   "metadata": {},
   "source": [
    "#### 4. Download the mobility report data of **2021** for the same country (that you have chosen above) using this API and name it as `df_2021`.  Print the first 10 lines of the dataframe"
   ]
  },
  {
   "cell_type": "code",
   "execution_count": null,
   "metadata": {},
   "outputs": [],
   "source": [
    "# Create DataFrame with 2021 data\n",
    "df_2021 = pd.read_csv('http://mirrors-dev.citg.tudelft.nl:8083/google-mobility-data/2021/CO')\n",
    "\n",
    "# Print first 10 lines of df\n",
    "df_2021.head(10)"
   ]
  },
  {
   "cell_type": "markdown",
   "metadata": {},
   "source": [
    "#### 5. Combine the two dataframes `df_2020` and `df_2021` into a new dataframe `df`. Print the last 10 lines of `df`."
   ]
  },
  {
   "cell_type": "code",
   "execution_count": null,
   "metadata": {},
   "outputs": [],
   "source": [
    "# Concat DataFrames using concat\n",
    "df = pd.concat([df_2020, df_2021])\n",
    "\n",
    "# Print last 10 lines of df\n",
    "df.tail(10)"
   ]
  },
  {
   "cell_type": "markdown",
   "metadata": {},
   "source": [
    "#### 6. `df` now contains mobility data for your selected country from 2020 and 2021. There are three aggregation levels to this data, namely national (`country_region`), provincial (`sub_region_1`), and city (`sub_region_2`). Separate these data into three different dataframes, namely `df_nation`, `df_province`, and `df_city`.  Print the first 5 lines of each of them.  \n",
    "\n",
    "Hint:\n",
    "- For the national data, `sub_region_1` and `sub_region_2` are NaN.\n",
    "- For the provincial data, `sub_region_2` is NaN.\n",
    "- For the city data, `country_region`, `sub_region_1` and `sub_region_2` are not NaN.\n",
    "- Logical operators: <https://realpython.com/python-bitwise-operators/>\n",
    "- Use pandas [isna()](https://pandas.pydata.org/docs/reference/api/pandas.DataFrame.isna.html) function "
   ]
  },
  {
   "cell_type": "code",
   "execution_count": null,
   "metadata": {},
   "outputs": [],
   "source": [
    "# Create national df\n",
    "df_nation = df[df['sub_region_1'].isna() & df['sub_region_2'].isna()]\n",
    "\n",
    "# Print first 5 lines of national data\n",
    "df_nation.head(5)"
   ]
  },
  {
   "cell_type": "code",
   "execution_count": null,
   "metadata": {},
   "outputs": [],
   "source": [
    "# Create provincial df\n",
    "df_province = df[df['sub_region_1'].notna() & df['sub_region_2'].isna()]\n",
    "\n",
    "# Print first 5 lines of provincial data\n",
    "df_province.head(5)"
   ]
  },
  {
   "cell_type": "code",
   "execution_count": null,
   "metadata": {},
   "outputs": [],
   "source": [
    "# Create city df\n",
    "df_city = df[df['country_region'].notna() & df['sub_region_1'].notna() & df['sub_region_2'].notna()]\n",
    "\n",
    "# Print first 5 lines of city data\n",
    "df_city.head(5)"
   ]
  },
  {
   "cell_type": "markdown",
   "metadata": {},
   "source": [
    "#### 7. Save `df_nation`, `df_province`, and `df_city` into csv files under folder 'processed_data', and locate this folder under `data_dir`. Name the files `{CC}_nation.csv`, `{CC}_province.csv`, and `{CC}_city.csv`, respectively. `{CC}` stands for your selected country code."
   ]
  },
  {
   "cell_type": "code",
   "execution_count": null,
   "metadata": {},
   "outputs": [],
   "source": [
    "# Safe files to explorer (could not succeed in creating folder with code)\n",
    "df_nation.to_csv('Region_Mobility_Report_CSVs\\processed_data\\CO_nation.csv')\n",
    "df_province.to_csv('Region_Mobility_Report_CSVs\\processed_data\\CO_province.csv')\n",
    "df_city.to_csv('Region_Mobility_Report_CSVs\\processed_data\\CO_city.csv')"
   ]
  },
  {
   "cell_type": "markdown",
   "metadata": {},
   "source": [
    "<hr />"
   ]
  },
  {
   "cell_type": "markdown",
   "metadata": {},
   "source": [
    "# PART II - Simple Data Processing"
   ]
  },
  {
   "cell_type": "markdown",
   "metadata": {},
   "source": [
    "#### 1. There are multiple activities in the mobility report such as workplaces, parks, transit stations, etc. For each of the activities, what are the average percent changes from baselines for your selected country?"
   ]
  },
  {
   "cell_type": "code",
   "execution_count": null,
   "metadata": {},
   "outputs": [],
   "source": [
    "# Print the average percent changes from baselines for Colombia (apologies for long print line)\n",
    "for i in range(6):  # 6 columns contain data on percentual changes\n",
    "    print(f'The average of the {df.columns[9 + i].replace(\"_\", \" \").replace(\"baseline\", \"the baseline\")} equals {(df[df.columns[9 + i]].mean()) * 0.01 :.1%}')"
   ]
  },
  {
   "cell_type": "markdown",
   "metadata": {},
   "source": [
    "#### 2. Let's look into data from different provinces. How many provinces are there in the data of your selected country? Print all of them."
   ]
  },
  {
   "cell_type": "code",
   "execution_count": null,
   "metadata": {},
   "outputs": [],
   "source": [
    "# Create list of provinces in the data\n",
    "provinces = df[df['sub_region_1'].notna() == True]['sub_region_1'].unique()\n",
    "\n",
    "# Print result\n",
    "print(f'The data contains information about {len(provinces)} provinces of Colombia, including:')\n",
    "for province in provinces:\n",
    "    print(province)"
   ]
  },
  {
   "cell_type": "markdown",
   "metadata": {},
   "source": [
    "#### 3. You can get a summary of each of the provinces using pandas describe function. Using this, find which province experienced the largest (average) changes in workplaces."
   ]
  },
  {
   "cell_type": "code",
   "execution_count": null,
   "metadata": {},
   "outputs": [],
   "source": [
    "# Group the data by province\n",
    "gp_provinces = df.groupby('sub_region_1')\n",
    "\n",
    "# Create summary of provinces\n",
    "summary_provinces = gp_provinces['workplaces_percent_change_from_baseline'].describe()\n",
    "\n",
    "# Find (index of) max mean value\n",
    "max_mean = summary_provinces['mean'].max()  \n",
    "id_max_mean = summary_provinces['mean'].argmax()\n",
    "\n",
    "# Print result\n",
    "print(f'The province {summary_provinces.index[id_max_mean]} experienced the largest (average) change in workplaces with a value of {max_mean * 0.01:.1%}')"
   ]
  },
  {
   "cell_type": "markdown",
   "metadata": {},
   "source": [
    "#### 4. Create a new dataframe that only contains data from the province with the largest changes in workplaces, which you found in the previous question."
   ]
  },
  {
   "cell_type": "code",
   "execution_count": null,
   "metadata": {},
   "outputs": [],
   "source": [
<<<<<<< Updated upstream
<<<<<<< Updated upstream
    "# YOUR CODE HERE\n"
=======
    "# Create DataFrame that only contains data from Vichada\n",
    "df_vichada = df[df['sub_region_1'] == summary_provinces.index[id_max_mean]]\n",
    "\n",
    "# Display df_vichada\n",
    "df_vichada"
>>>>>>> Stashed changes
=======
    "# Create DataFrame that only contains data from Vichada\n",
    "df_vichada = df[df['sub_region_1'] == 'Vichada']\n",
    "\n",
    "# Display df_vichada\n",
    "df_vichada"
>>>>>>> Stashed changes
   ]
  },
  {
   "cell_type": "markdown",
   "metadata": {},
   "source": [
    "#### 5. We're going to look at the changes of this province over time. As you can see, the column date is in string format. Convert this str date column data str to datetime format and append as an extra column called 'date2' to the dataframe.  \n",
    "Hint: <https://pandas.pydata.org/docs/reference/api/pandas.to_datetime.html>"
   ]
  },
  {
   "cell_type": "code",
   "execution_count": null,
   "metadata": {},
   "outputs": [],
   "source": [
    "# Change date into datetime\n",
    "pd.to_datetime(df_vichada['date'])"
   ]
  },
  {
   "cell_type": "code",
   "execution_count": null,
   "metadata": {},
   "outputs": [],
   "source": [
    "# Append new datetime column as date2 and display\n",
    "df_vichada['date2'] = pd.to_datetime(df_vichada['date'])\n",
    "df_vichada.tail()"
   ]
  },
  {
   "cell_type": "markdown",
   "metadata": {},
   "source": [
    "#### 6. Sort the data in ascending order of time and save it as 'df_province_largest'"
   ]
  },
  {
   "cell_type": "code",
   "execution_count": null,
   "metadata": {},
   "outputs": [],
   "source": [
    "# Sort data in ascending order of time\n",
    "df_province_largest = df_vichada.sort_values('date2')"
   ]
  },
  {
   "cell_type": "code",
   "execution_count": null,
   "metadata": {},
   "outputs": [],
   "source": [
    "# Execute the cell with the following command to visualize the results\n",
    "df_province_largest.plot('date2', 'workplaces_percent_change_from_baseline')\n",
    "\n",
    "df_province_largest.resample('7D', on='date2').sum()['workplaces_percent_change_from_baseline'].plot();"
   ]
  },
  {
   "cell_type": "markdown",
   "metadata": {},
   "source": [
    "#### 7. Compare the results above with the results in the google mobility report pdf of your selected province. Discuss the differences and similarities. Please save the mobility report pdf that you use to compare the results with! An example mobility report pdf can be found [here](https://www.gstatic.com/covid19/mobility/2021-09-01_AW_Mobility_Report_en.pdf)"
   ]
  },
  {
   "cell_type": "markdown",
   "metadata": {},
   "source": []
  }
 ],
 "metadata": {
  "interpreter": {
   "hash": "df955ce39d0f31d56d4bb2fe0a613e5326ba60723fd33d8303a3aede8f65715c"
  },
  "kernelspec": {
   "display_name": "Python 3",
   "language": "python",
   "name": "python3"
  },
  "language_info": {
   "codemirror_mode": {
    "name": "ipython",
    "version": 3
   },
   "file_extension": ".py",
   "mimetype": "text/x-python",
   "name": "python",
   "nbconvert_exporter": "python",
   "pygments_lexer": "ipython3",
   "version": "3.8.8"
  }
 },
 "nbformat": 4,
 "nbformat_minor": 4
}
